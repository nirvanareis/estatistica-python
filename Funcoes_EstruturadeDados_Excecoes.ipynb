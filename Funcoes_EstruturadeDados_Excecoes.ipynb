{
  "cells": [
    {
      "cell_type": "markdown",
      "metadata": {
        "id": "view-in-github",
        "colab_type": "text"
      },
      "source": [
        "<a href=\"https://colab.research.google.com/github/nirvanareis/estatistica-python/blob/main/Funcoes_EstruturadeDados_Excecoes.ipynb\" target=\"_parent\"><img src=\"https://colab.research.google.com/assets/colab-badge.svg\" alt=\"Open In Colab\"/></a>"
      ]
    },
    {
      "cell_type": "markdown",
      "metadata": {
        "id": "_kwAaQ36gLQ1"
      },
      "source": [
        "# Sobre o notebook\n",
        "\n",
        "A \"hora da prática\" é uma atividade do curso de Python para Data Science da Alura que contém diversos desafios envolvendo os aprendizados de cada aula.\n",
        "\n",
        "O notebook \"hora da prática\" é um notebook construído com espaço para as células dos desafios propostos no curso, com ele você tem espaço para construir e executar suas soluções"
      ]
    },
    {
      "cell_type": "markdown",
      "metadata": {
        "id": "Mc-KN0dA0Z83"
      },
      "source": [
        "## Aula 1 - Bibliotecas"
      ]
    },
    {
      "cell_type": "markdown",
      "metadata": {
        "id": "Dq02fNPCl_JV"
      },
      "source": [
        "### Aquecimento"
      ]
    },
    {
      "cell_type": "markdown",
      "metadata": {
        "id": "l5eLWf0W0ikn"
      },
      "source": [
        "#### Questão 1\n",
        "\n",
        "Escreva um código para instalar a versão `3.7.1` da biblioteca `matplotlib`"
      ]
    },
    {
      "cell_type": "code",
      "execution_count": null,
      "metadata": {
        "id": "m4b6NquSaj3q"
      },
      "outputs": [],
      "source": [
        "!pip install matplotlib==3.7.1"
      ]
    },
    {
      "cell_type": "markdown",
      "metadata": {
        "id": "tQdX90Ue03c7"
      },
      "source": [
        "#### Questão 2\n",
        "\n",
        "Escreva um código para importar a biblioteca `numpy` com o alias `np`"
      ]
    },
    {
      "cell_type": "code",
      "execution_count": null,
      "metadata": {
        "id": "Gh8aZUwaakuT"
      },
      "outputs": [],
      "source": [
        "import numpy as np"
      ]
    },
    {
      "cell_type": "markdown",
      "metadata": {
        "id": "gfg-aiip03vC"
      },
      "source": [
        "#### Questão 3\n",
        "Crie um programa que lê a seguinte lista de números e escolha um número desta aleatoriamente.\n",
        "```\n",
        "lista = [8, 12, 54, 23, 43, 1, 90, 87, 105, 77]\n",
        "```"
      ]
    },
    {
      "cell_type": "code",
      "execution_count": null,
      "metadata": {
        "id": "Sla71KJQalws"
      },
      "outputs": [],
      "source": [
        "lista = [8, 12, 54, 23, 43, 1, 90, 87, 105, 77]\n",
        "\n",
        "from random import choice\n",
        "\n",
        "numero = choice(lista)\n",
        "numero"
      ]
    },
    {
      "cell_type": "markdown",
      "metadata": {
        "id": "oadrJbl704MM"
      },
      "source": [
        "#### Questão 4\n",
        "\n",
        "Crie um programa que sorteia aleatoriamente um número inteiro menor que 100.\n",
        "> Dica: use a função [`randrange()`](https://docs.python.org/3/library/random.html#random.randrange) da biblioteca `random`. Essa função recebe como parâmetro o valor limite para a escolha aleatória ou um intervalo se passado o limite mínimo e máximo. Por exemplo, `randrange(5)` gera valores inteiros menores que 5.\n"
      ]
    },
    {
      "cell_type": "code",
      "execution_count": null,
      "metadata": {
        "id": "UZSpqpOuanFT"
      },
      "outputs": [],
      "source": [
        "from random import randrange\n",
        "\n",
        "intervalo  = randrange(100)\n",
        "intervalo"
      ]
    },
    {
      "cell_type": "markdown",
      "metadata": {
        "id": "3RgyMaan04TD"
      },
      "source": [
        "#### Questão 5\n",
        "Crie um programa que solicite à pessoa usuária digitar dois números inteiros e calcular a potência do 1º número elevado ao 2º.\n",
        "> Dica: use a função [`pow()`](https://docs.python.org/3/library/random.html#random.randrange) da biblioteca `math`\n"
      ]
    },
    {
      "cell_type": "code",
      "execution_count": null,
      "metadata": {
        "colab": {
          "background_save": true,
          "base_uri": "https://localhost:8080/"
        },
        "id": "UOzl8la0aoBd",
        "outputId": "5fcca54d-24fa-4f3b-b312-9a55554a4bd2"
      },
      "outputs": [
        {
          "name": "stdout",
          "output_type": "stream",
          "text": [
            "O valor da potência é: 4\n"
          ]
        }
      ],
      "source": [
        "base = int(input(\"Digite a base da potência: \"))\n",
        "exp = int(input('Digite o expoente da potência: '))\n",
        "\n",
        "potencia = pow(base,exp)\n",
        "\n",
        "print(f'O valor da potência é: {potencia}')"
      ]
    },
    {
      "cell_type": "markdown",
      "metadata": {
        "id": "ieCkWjvEmJU0"
      },
      "source": [
        "### Aplicando a projetos"
      ]
    },
    {
      "cell_type": "markdown",
      "metadata": {
        "id": "0rS4QHP1mXQE"
      },
      "source": [
        "#### Questão 6\n",
        "Um programa deve ser escrito para sortear uma pessoa seguidora de uma rede social para ganhar um prêmio. A lista de participantes é numerada e devemos escolher aleatoriamente um número de acordo com a quantidade de participantes.\n",
        "\n",
        "Peça à pessoa usuária para fornecer o número de participantes do sorteio e devolva para ela o número sorteado."
      ]
    },
    {
      "cell_type": "code",
      "execution_count": null,
      "metadata": {
        "colab": {
          "background_save": true
        },
        "id": "G4k5jUdAao8t",
        "outputId": "8f490f39-97a5-46f0-b0b6-d6694ef98289"
      },
      "outputs": [
        {
          "name": "stdout",
          "output_type": "stream",
          "text": [
            "O sorteado foi: 2\n"
          ]
        }
      ],
      "source": [
        "qtd = int(input('Informe a quantidade e participantes do sorteio: '))\n",
        "\n",
        "sorteado = randrange(qtd)\n",
        "\n",
        "print(f'O sorteado foi: {sorteado}')"
      ]
    },
    {
      "cell_type": "markdown",
      "metadata": {
        "id": "9D6cd4tomhSi"
      },
      "source": [
        "#### Questão 7\n",
        "\n",
        "Você recebeu uma demanda para gerar números de token para o acesso ao aplicativo de uma empresa. O token precisa ser par e variar de 1000 até 9998. Escreva um código que solicita à pessoa usuária o seu nome e gera uma mensagem junto a esse token gerado aleatoriamente:\n",
        "\n",
        "`\"Olá, [nome], o seu token de acesso é [token]! Seja bem-vindo(a)!\"`"
      ]
    },
    {
      "cell_type": "code",
      "execution_count": null,
      "metadata": {
        "colab": {
          "background_save": true
        },
        "id": "Y4ACJ4rEaqQW"
      },
      "outputs": [],
      "source": [
        "nome = input('Informe seu nome para receber seu token: ')\n",
        "\n",
        "token = randrange(1000, 9998)\n",
        "\n",
        "if token % 2 != 0:\n",
        "  token = randrange(1000, 9998)\n",
        "\n",
        "else:\n",
        "  print(f'Olá, {nome}, o seu token de acesso é {token}! Seja bem-vindo(a)!')\n"
      ]
    },
    {
      "cell_type": "markdown",
      "metadata": {
        "id": "FHJHH_WemhFJ"
      },
      "source": [
        "#### Questão 8\n",
        "Para diversificar e atrair novos clientes, uma lanchonete criou um item misterioso em seu cardápio chamado \"salada de frutas surpresa\". Neste item, são escolhidas aleatoriamente 3 frutas de uma lista de 12 frutas para compor a salada de frutas da pessoa cliente.\n",
        "\n",
        "Crie o código que faça essa seleção aleatória de acordo com a lista abaixo:\n",
        "\n",
        "```\n",
        "frutas = [\"maçã\", \"banana\", \"uva\", \"pêra\",\n",
        "          \"manga\", \"coco\", \"melancia\", \"mamão\",\n",
        "          \"laranja\", \"abacaxi\", \"kiwi\", \"ameixa\"]\n",
        "```"
      ]
    },
    {
      "cell_type": "code",
      "execution_count": null,
      "metadata": {
        "colab": {
          "background_save": true
        },
        "id": "gR0BNVGoarOv",
        "outputId": "2d3031b3-a0db-47f8-cd74-26f26f41f1da"
      },
      "outputs": [
        {
          "name": "stdout",
          "output_type": "stream",
          "text": [
            "Sua salada será de ['kiwi', 'laranja', 'uva']\n"
          ]
        }
      ],
      "source": [
        "from random import choices\n",
        "\n",
        "frutas = [\"maçã\", \"banana\", \"uva\", \"pêra\",\n",
        "          \"manga\", \"coco\", \"melancia\", \"mamão\",\n",
        "          \"laranja\", \"abacaxi\", \"kiwi\", \"ameixa\"]\n",
        "\n",
        "salada = choices(frutas, k = 3)\n",
        "\n",
        "print(f'Sua salada será de {salada}')"
      ]
    },
    {
      "cell_type": "markdown",
      "metadata": {
        "id": "m_voDwY9mhNJ"
      },
      "source": [
        "#### Questão 9\n",
        "Você recebeu um desafio de calcular a raiz quadrada de uma lista de números, identificando quais resultaram em um número inteiro. A lista é a seguinte:\n",
        "```\n",
        "numeros = [2, 8, 15, 23, 91, 112, 256]\n",
        "```\n",
        "\n",
        "Informe no final quais números possuem raízes inteiras e seus respectivos valores.\n",
        "\n",
        "> Dica: use a comparação entre a divisão inteira da raiz por 1 com o valor da raiz para verificar se o número é inteiro. Por exemplo:\n",
        "```\n",
        "num = 1.5\n",
        "num_2 = 2\n",
        "print(f'{num} é inteiro? :', num // 1 == num)\n",
        "print(f'{num_2} é inteiro? :', num_2 // 1 == num_2)\n",
        "```\n",
        "Saída:\n",
        "```\n",
        "1.5 é inteiro? : False\n",
        "2 é inteiro? : True\n",
        "```"
      ]
    },
    {
      "cell_type": "markdown",
      "metadata": {
        "id": "dhM3a3oSf-gk"
      },
      "source": []
    },
    {
      "cell_type": "markdown",
      "metadata": {
        "id": "7RtZZb4ffqGp"
      },
      "source": []
    },
    {
      "cell_type": "code",
      "execution_count": null,
      "metadata": {
        "colab": {
          "background_save": true
        },
        "id": "80eu9G8HaswW",
        "outputId": "baa1f65a-ffbd-4e11-df9a-ec89f1616eb7"
      },
      "outputs": [
        {
          "name": "stdout",
          "output_type": "stream",
          "text": [
            "O valor [256] possui raiz inteira de 16.0\n"
          ]
        }
      ],
      "source": [
        "from math import sqrt\n",
        "numeros = [2, 8, 15, 23, 91, 112, 256]\n",
        "lista = []\n",
        "numero = []\n",
        "\n",
        "for i in numeros:\n",
        "  raiz = sqrt(i)\n",
        "  if raiz // 1 == raiz:\n",
        "    lista.append(i)\n",
        "    numero = sqrt(i)\n",
        "\n",
        "print(f'O valor {lista} possui raiz inteira de {numero}')\n",
        "\n",
        "\n",
        "\n"
      ]
    },
    {
      "cell_type": "markdown",
      "metadata": {
        "id": "dBl0iKd7mhYA"
      },
      "source": [
        "#### Questão 10\n",
        "Faça um programa para uma loja que vende grama para jardins. Essa loja trabalha com jardins circulares e o preço do metro quadrado da grama é de R$ 25,00. Peça à pessoa usuária o raio da área circular e devolva o valor em reais do quanto precisará pagar.  \n",
        "\n",
        "> Dica: use a variável [`pi`](https://docs.python.org/pt-br/3/library/math.html#math.pi) e o método [`pow()`](https://docs.python.org/3/library/random.html#random.randrange) da biblioteca `math`. O cálculo de área de um círculo é de: $Area = \\pi \\times r^2$"
      ]
    },
    {
      "cell_type": "code",
      "execution_count": null,
      "metadata": {
        "id": "VK0RHwYIattI"
      },
      "outputs": [],
      "source": [
        "from math import pi\n",
        "\n",
        "raio = float(input(\"Informe a medida do raio do jardim: \"))\n",
        "\n",
        "area = pi * pow(raio,2)\n",
        "preco = area * 25\n",
        "\n",
        "print('O valor em reais de grama será de R${:.2f}'.format(preco))"
      ]
    },
    {
      "cell_type": "markdown",
      "metadata": {
        "id": "D9e3FqhO1S3X"
      },
      "source": [
        "## Aula 2 - Funções"
      ]
    },
    {
      "cell_type": "markdown",
      "metadata": {
        "id": "DTBxjtxXa1dz"
      },
      "source": [
        "### Aquecimento"
      ]
    },
    {
      "cell_type": "markdown",
      "metadata": {
        "id": "dedVZJ3fa1dz"
      },
      "source": [
        "#### Questão 1\n",
        "\n",
        "Escreva um código que lê a lista abaixo e faça:\n",
        "\n",
        "```\n",
        "lista = [16, 14, 63, 65, 17, 99, 70, 11, 20, 48, 79, 32, 17, 89, 12, 25, 66]\n",
        "```\n",
        "\n",
        "- A leitura do tamanho da lista\n",
        "- A leitura do maior e menor valor\n",
        "- A soma dos valores da lista\n",
        "\n",
        "Ao final exiba uma mensagem dizendo:\n",
        "\n",
        "```\n",
        "\"A lista possui [tam] números em que o maior número é [maior] e o menor número é [menor]. A soma dos valores pares presentes nela é igual a [soma]\"\n",
        "```\n",
        "\n",
        "> Dica: use as funções embutidas presentes na [documentação do Python](https://docs.python.org/3/library/functions.html)\n"
      ]
    },
    {
      "cell_type": "code",
      "execution_count": null,
      "metadata": {
        "id": "KrGD5Nl5a1dz",
        "colab": {
          "base_uri": "https://localhost:8080/"
        },
        "outputId": "4e98817e-14e6-440c-af0f-49469f2eed24"
      },
      "outputs": [
        {
          "output_type": "stream",
          "name": "stdout",
          "text": [
            "A lista possui 17 números em que o maior número é 99 e o menor número é 11. A soma dos valores presentes nela é igual a 743\n"
          ]
        }
      ],
      "source": [
        "lista = [16, 14, 63, 65, 17, 99, 70, 11, 20, 48, 79, 32, 17, 89, 12, 25, 66]\n",
        "\n",
        "def comandos(lista):\n",
        "\n",
        "  tamanho = len(lista)\n",
        "  soma = sum(lista)\n",
        "  maior = max(lista)\n",
        "  menor = min(lista)\n",
        "\n",
        "  return print(f'A lista possui {tamanho} números em que o maior número é {maior} e o menor número é {menor}. A soma dos valores presentes nela é igual a {soma}')\n",
        "\n",
        "comandos(lista)"
      ]
    },
    {
      "cell_type": "markdown",
      "metadata": {
        "id": "435rt7sha1dz"
      },
      "source": [
        "#### Questão 2\n",
        "\n",
        "Escreva uma função que gere a tabuada de um número inteiro de 1 a 10, de acordo com a escolha da pessoa usuária. Como exemplo, para o número 7, a tabuada deve ser mostrada no seguinte formato:\n",
        "```\n",
        "Tabuada do 7:\n",
        "7 x 0 = 0\n",
        "7 x 1 = 7\n",
        "[...]\n",
        "7 x 10 = 70\n",
        "```\n"
      ]
    },
    {
      "cell_type": "code",
      "execution_count": null,
      "metadata": {
        "id": "DxHuhb19a1d0",
        "colab": {
          "base_uri": "https://localhost:8080/"
        },
        "outputId": "d8eeba49-f803-4e39-e606-b0ae9d999c76"
      },
      "outputs": [
        {
          "output_type": "stream",
          "name": "stdout",
          "text": [
            "Informe um número para saber sua tabuada: 5\n",
            "Tabuada do 5\n",
            "1 x 5 = 5\n",
            "2 x 5 = 10\n",
            "3 x 5 = 15\n",
            "4 x 5 = 20\n",
            "5 x 5 = 25\n",
            "6 x 5 = 30\n",
            "7 x 5 = 35\n",
            "8 x 5 = 40\n",
            "9 x 5 = 45\n",
            "10 x 5 = 50\n"
          ]
        }
      ],
      "source": [
        "numero = int(input('Informe um número para saber sua tabuada: '))\n",
        "\n",
        "def tabuada(x):\n",
        "  print(f'Tabuada do {x}')\n",
        "\n",
        "  for i in range (1, 11):\n",
        "    print(f'{i} x {x} = {i*x}')\n",
        "    i = i + 1\n",
        "\n",
        "tabuada(numero)"
      ]
    },
    {
      "cell_type": "markdown",
      "metadata": {
        "id": "OwoNphMPa1d0"
      },
      "source": [
        "#### Questão 3\n",
        "Crie a função que leia a lista abaixo e retorne uma nova lista com os múltiplos de 3:\n",
        "\n",
        "```\n",
        "[97, 80, 94, 88, 80, 1, 16, 53, 62, 32, 24, 99]\n",
        "```\n",
        "\n",
        "Utilize o `return` na função e salve a nova lista na variável `mult_3`."
      ]
    },
    {
      "cell_type": "code",
      "execution_count": null,
      "metadata": {
        "id": "kYrKxhd8a1d0",
        "colab": {
          "base_uri": "https://localhost:8080/"
        },
        "outputId": "edc9a3ff-313a-4df8-fc48-0e16c6064ead"
      },
      "outputs": [
        {
          "output_type": "execute_result",
          "data": {
            "text/plain": [
              "[24, 99]"
            ]
          },
          "metadata": {},
          "execution_count": 12
        }
      ],
      "source": [
        "lista = [97, 80, 94, 88, 80, 1, 16, 53, 62, 32, 24, 99]\n",
        "\n",
        "def div_3(lista):\n",
        "  mult = []\n",
        "  for i in lista:\n",
        "    if i % 3 == 0:\n",
        "      mult.append(i)\n",
        "\n",
        "  return mult\n",
        "\n",
        "mult_3 = div_3(lista)\n",
        "mult_3\n"
      ]
    },
    {
      "cell_type": "markdown",
      "metadata": {
        "id": "kFkuo_SUa1d0"
      },
      "source": [
        "#### Questão 4\n",
        "Crie uma lista dos quadrados dos números da seguinte lista `[1, 2, 3, 4, 5, 6, 7, 8, 9, 10]`.\n",
        "\n",
        "Lembre-se de utilizar as funções lambda e `map()` para calcular o quadrado de cada elemento da lista.\n"
      ]
    },
    {
      "cell_type": "code",
      "execution_count": null,
      "metadata": {
        "id": "Iav68EpKa1d0",
        "colab": {
          "base_uri": "https://localhost:8080/"
        },
        "outputId": "a1090a1b-d6f9-4ab1-bc6b-793c244349cf"
      },
      "outputs": [
        {
          "output_type": "execute_result",
          "data": {
            "text/plain": [
              "[1, 4, 9, 16, 25, 36, 49, 64, 81, 100]"
            ]
          },
          "metadata": {},
          "execution_count": 8
        }
      ],
      "source": [
        "lista = [1, 2, 3, 4, 5, 6, 7, 8, 9, 10]\n",
        "\n",
        "quadrados = map(lambda x : x ** 2, lista)\n",
        "\n",
        "lista_quadrados = list(quadrados)\n",
        "lista_quadrados"
      ]
    },
    {
      "cell_type": "markdown",
      "metadata": {
        "id": "PX7G0Qgha1d0"
      },
      "source": [
        "### Aplicando a projetos"
      ]
    },
    {
      "cell_type": "markdown",
      "metadata": {
        "id": "oVWgrilxa1d0"
      },
      "source": [
        "#### Questão 5\n",
        "\n",
        "Você foi contratado(a) como cientista de dados de uma associação de skate. Para analisar as notas recebidas dos(as) skatistas em algumas competições ao longo do ano, você precisa criar um código que calcula a pontuação dos(as) atletas. Para isso, o seu código deve receber 5 notas digitadas pelas pessoas juradas.\n",
        "\n",
        "Para calcular a pontuação de um(a) skatista, você precisa eliminar a maior e a menor pontuação dentre as 5 notas e tirar a média das 3 notas que sobraram.\n",
        "\n",
        "Retorne a média para apresentar o texto:\n",
        "`\"Nota da manobra: [media]\"`\n",
        "\n"
      ]
    },
    {
      "cell_type": "code",
      "execution_count": null,
      "metadata": {
        "id": "1nbQ-hIRa1d0",
        "colab": {
          "base_uri": "https://localhost:8080/"
        },
        "outputId": "0a4843f2-7081-483d-dd2c-beea58f701f1"
      },
      "outputs": [
        {
          "name": "stdout",
          "output_type": "stream",
          "text": [
            "Informe a nota 1: 98\n",
            "Informe a nota 2: 1\n",
            "Informe a nota 3: 9\n",
            "Informe a nota 4: 8\n",
            "Informe a nota 5: 7\n"
          ]
        },
        {
          "output_type": "execute_result",
          "data": {
            "text/plain": [
              "8.0"
            ]
          },
          "metadata": {},
          "execution_count": 37
        }
      ],
      "source": [
        "notas = []\n",
        "\n",
        "for i in range (1,6):\n",
        "  nota = float(input(f'Informe a nota {i}: '))\n",
        "  notas.append(nota)\n",
        "\n",
        "  i += i\n",
        "\n",
        "def media(lista):\n",
        "\n",
        "  menor = min(lista)\n",
        "  maior = max(lista)\n",
        "  lista.remove(menor)\n",
        "  lista.remove(maior)\n",
        "  media = sum(lista) / len(lista)\n",
        "\n",
        "  return media\n",
        "\n",
        "media(notas)"
      ]
    },
    {
      "cell_type": "markdown",
      "metadata": {
        "id": "p3MnWjnda1d0"
      },
      "source": [
        "#### Questão 6\n",
        "\n",
        "Para atender a uma demanda de uma instituição de ensino para a análise do desempenho de seus(suas) estudantes, você precisa criar uma função que receba uma lista de 4 notas e retorne:\n",
        "- maior nota\n",
        "- menor nota\n",
        "- média\n",
        "- situação (Aprovado(a) ou Reprovado(a))\n",
        "\n",
        "Para testar o comportamento da função, os dados podem ser exibidos em um texto:\n",
        "```\n",
        "\"O(a) estudante obteve uma media de [media], com a sua maior nota de [maior] pontos e a menor nota de [menor] pontos e foi [situacao]\"\n",
        "```"
      ]
    },
    {
      "cell_type": "code",
      "execution_count": null,
      "metadata": {
        "id": "5Bx-K65ya1d0",
        "colab": {
          "base_uri": "https://localhost:8080/"
        },
        "outputId": "b7673838-aee0-4029-b74a-cf49594effe0"
      },
      "outputs": [
        {
          "output_type": "stream",
          "name": "stdout",
          "text": [
            "Informe a nota 1: 3\n",
            "Informe a nota 2: 5\n",
            "Informe a nota 3: 10\n",
            "Informe a nota 4: 9\n",
            "O(a) estudante obteve uma media de 6.75, com a sua maior nota de 10.0 pontos e a menor nota de 3.0 pontos e foi Aprovado.\n"
          ]
        }
      ],
      "source": [
        "notas = []\n",
        "\n",
        "for i in range (1,5):\n",
        "  nota = float(input(f'Informe a nota {i}: '))\n",
        "  notas.append(nota)\n",
        "\n",
        "  i += i\n",
        "\n",
        "def desempenho(notas):\n",
        "\n",
        "  maior = max(notas)\n",
        "  menor = min(notas)\n",
        "  media = sum(notas) / len(notas)\n",
        "\n",
        "  if media >= 6:\n",
        "    situacao = 'Aprovado'\n",
        "  else:\n",
        "    situacao = 'Reprovado'\n",
        "\n",
        "  return print(f'O(a) estudante obteve uma media de {media}, com a sua maior nota de {maior} pontos e a menor nota de {menor} pontos e foi {situacao}.')\n",
        "\n",
        "desempenho(notas)"
      ]
    },
    {
      "cell_type": "markdown",
      "metadata": {
        "id": "_sPZj_x9a1d0"
      },
      "source": [
        "#### Questão 7\n",
        "\n",
        "Você recebeu uma demanda para tratar 2 listas com os nomes e sobrenomes de cada estudante concatenando-as para apresentar seus nomes completos na forma `Nome Sobrenome`.\n",
        "\n",
        "As listas são:\n",
        "```\n",
        "nomes = [\"joão\", \"MaRia\", \"JOSÉ\"]\n",
        "sobrenomes = [\"SILVA\", \"souza\", \"Tavares\"]\n",
        "```\n",
        "\n",
        "O texto exibido ao fim deve ser parecido com:\n",
        "```\n",
        "\"Nome completo: Ana Silva\"\n",
        "```\n",
        "\n",
        "> Dica: Utilize a função map para mapear os nomes e sobrenomes e as funções de string para tratar o texto."
      ]
    },
    {
      "cell_type": "code",
      "execution_count": null,
      "metadata": {
        "id": "SdPq27E-a1d0",
        "colab": {
          "base_uri": "https://localhost:8080/"
        },
        "outputId": "b0a71df5-118c-4d15-f9e3-95ab3ece56c0"
      },
      "outputs": [
        {
          "output_type": "execute_result",
          "data": {
            "text/plain": [
              "['João Silva', 'Maria Souza', 'José Tavares']"
            ]
          },
          "metadata": {},
          "execution_count": 19
        }
      ],
      "source": [
        "nomes = [\"joão\", \"MaRia\", \"JOSÉ\"]\n",
        "sobrenomes = [\"SILVA\", \"souza\", \"Tavares\"]\n",
        "\n",
        "nome_completo = map(lambda x, y : x.capitalize() + ' ' + y.capitalize(), nomes, sobrenomes)\n",
        "nome_completo = list(nome_completo)\n",
        "nome_completo\n"
      ]
    },
    {
      "cell_type": "markdown",
      "metadata": {
        "id": "u_KhhnCfh3ST"
      },
      "source": [
        "## Aula 3 - Estrutura de dados compostas"
      ]
    },
    {
      "cell_type": "markdown",
      "metadata": {
        "id": "6cya3lleh3SU"
      },
      "source": [
        "### Aquecimento"
      ]
    },
    {
      "cell_type": "markdown",
      "metadata": {
        "id": "MLv8mbbth3SU"
      },
      "source": [
        "#### Questão 1\n",
        "\n",
        "Crie um código para imprimir a soma dos elementos de cada uma das listas contidas na seguinte lista:\n",
        "```\n",
        "lista_de_listas = [[4,6,5,9], [1,0,7,2], [3,4,1,8]]\n",
        "```"
      ]
    },
    {
      "cell_type": "code",
      "execution_count": null,
      "metadata": {
        "id": "P9dywp1xh3SU",
        "colab": {
          "base_uri": "https://localhost:8080/"
        },
        "outputId": "5f49fe04-e355-45eb-e443-9ccc9304d6bd"
      },
      "outputs": [
        {
          "output_type": "stream",
          "name": "stdout",
          "text": [
            "A soma da lista é: 24\n",
            "A soma da lista é: 10\n",
            "A soma da lista é: 16\n"
          ]
        }
      ],
      "source": [
        "lista_de_listas = [[4, 6, 5, 9], [1, 0, 7, 2], [3, 4, 1, 8]]\n",
        "\n",
        "for i in lista_de_listas:\n",
        "  soma = sum(i)\n",
        "  print(f'A soma da lista é: {soma}')"
      ]
    },
    {
      "cell_type": "markdown",
      "metadata": {
        "id": "C72i8R3Ih3SU"
      },
      "source": [
        "#### Questão 2\n",
        "\n",
        "Crie um código para gerar uma lista que armazena o terceiro elemento de cada tupla contida na seguinte lista de tuplas:\n",
        "```\n",
        "lista_de_tuplas = [('Pedro', 1.74, 81), ('Júlia', 1.65, 67), ('Otávio', 1.81, 83)]\n",
        "```"
      ]
    },
    {
      "cell_type": "code",
      "execution_count": null,
      "metadata": {
        "id": "S9EL1Bvjh3SU",
        "colab": {
          "base_uri": "https://localhost:8080/"
        },
        "outputId": "6be13387-8164-4cb4-dd4b-b698c2c0011c"
      },
      "outputs": [
        {
          "output_type": "execute_result",
          "data": {
            "text/plain": [
              "[81, 67, 83]"
            ]
          },
          "metadata": {},
          "execution_count": 22
        }
      ],
      "source": [
        "lista_de_tuplas = [('Pedro', 1.74, 81), ('Júlia', 1.65, 67), ('Otávio', 1.81, 83)]\n",
        "\n",
        "lista = [item[2] for item in lista_de_tuplas]\n",
        "lista\n",
        "\n"
      ]
    },
    {
      "cell_type": "markdown",
      "metadata": {
        "id": "e5ni69Lwh3SU"
      },
      "source": [
        "#### Questão 3\n",
        "A partir da lista: `lista = ['Pedro', 'Júlia', 'Otávio', 'Eduardo']`, crie um código para gerar uma lista de tuplas em que cada tupla tenha o primeiro elemento como a posição do nome na lista original e o segundo elemento sendo o próprio nome."
      ]
    },
    {
      "cell_type": "code",
      "execution_count": null,
      "metadata": {
        "id": "x3ckJThph3SU",
        "colab": {
          "base_uri": "https://localhost:8080/"
        },
        "outputId": "c3b60ff3-e963-418b-dba0-08bad6598356"
      },
      "outputs": [
        {
          "output_type": "execute_result",
          "data": {
            "text/plain": [
              "[(0, 'Pedro'), (1, 'Júlia'), (2, 'Otávio'), (3, 'Eduardo')]"
            ]
          },
          "metadata": {},
          "execution_count": 45
        }
      ],
      "source": [
        "lista = ['Pedro', 'Júlia', 'Otávio', 'Eduardo']\n",
        "\n",
        "lista_tuplas = []\n",
        "\n",
        "for i in range(len(lista)):\n",
        "  lista_tuplas.append((i, lista[i]))\n",
        "\n",
        "lista_tuplas\n",
        "\n",
        "\n",
        "## lista_tuplas = [(indice, lista[indice]) for indice in range(len(lista))]\n",
        "## lista_tuplas"
      ]
    },
    {
      "cell_type": "markdown",
      "metadata": {
        "id": "mtuC2qBLh3SU"
      },
      "source": [
        "#### Questão 4\n",
        "Crie uma lista usando o list comprehension, que armazena somente o valor numérico de cada tupla caso o primeiro elemento seja 'Apartamento' a partir da seguinte lista de tuplas:\n",
        "```\n",
        "aluguel = [('Apartamento', 1700), ('Apartamento', 1400), ('Casa', 2150), ('Apartamento', 1900), ('Casa', 1100)]\n",
        "```\n",
        "\n"
      ]
    },
    {
      "cell_type": "code",
      "execution_count": null,
      "metadata": {
        "id": "H1S8yT64h3SU",
        "colab": {
          "base_uri": "https://localhost:8080/"
        },
        "outputId": "d9e1a02b-fcb5-472c-e412-9aafb111d1ca"
      },
      "outputs": [
        {
          "output_type": "execute_result",
          "data": {
            "text/plain": [
              "[1700, 1400, 1900]"
            ]
          },
          "metadata": {},
          "execution_count": 52
        }
      ],
      "source": [
        "aluguel = [('Apartamento', 1700), ('Apartamento', 1400), ('Casa', 2150), ('Apartamento', 1900), ('Casa', 1100)]\n",
        "\n",
        "lista = [item[1] for item in aluguel if item[0] == 'Apartamento']\n",
        "\n",
        "lista\n"
      ]
    },
    {
      "cell_type": "markdown",
      "metadata": {
        "id": "Bd-Xp_iKh3SU"
      },
      "source": [
        "#### Questão 5\n",
        "\n",
        "Crie um dicionário usando o dict comprehension em que as chaves estão na lista `meses = ['Jan', 'Fev', 'Mar', 'Abr', 'Mai', 'Jun', 'Jul', 'Ago', 'Set', 'Out', 'Nov', 'Dez']` e os valores estão na lista `despesa = [860, 490, 1010, 780, 900, 630, 590, 770, 620, 560, 840, 360]`\n",
        "\n"
      ]
    },
    {
      "cell_type": "code",
      "execution_count": null,
      "metadata": {
        "id": "y7c5ickkh3SV",
        "colab": {
          "base_uri": "https://localhost:8080/"
        },
        "outputId": "3e637667-4ab2-4dd6-899f-22e4542c67fb"
      },
      "outputs": [
        {
          "output_type": "execute_result",
          "data": {
            "text/plain": [
              "{'Jan': 860,\n",
              " 'Fev': 490,\n",
              " 'Mar': 1010,\n",
              " 'Abr': 780,\n",
              " 'Mai': 900,\n",
              " 'Jun': 630,\n",
              " 'Jul': 590,\n",
              " 'Ago': 770,\n",
              " 'Set': 620,\n",
              " 'Out': 560,\n",
              " 'Nov': 840,\n",
              " 'Dez': 360}"
            ]
          },
          "metadata": {},
          "execution_count": 54
        }
      ],
      "source": [
        "meses = ['Jan', 'Fev', 'Mar', 'Abr', 'Mai', 'Jun', 'Jul', 'Ago', 'Set', 'Out', 'Nov', 'Dez']\n",
        "despesa = [860, 490, 1010, 780, 900, 630, 590, 770, 620, 560, 840, 360]\n",
        "\n",
        "dicionario = {meses[item]: despesa[item] for item in range(len(meses))}\n",
        "dicionario"
      ]
    },
    {
      "cell_type": "markdown",
      "metadata": {
        "id": "T9XuUQIph3SU"
      },
      "source": [
        "### Aplicando a projetos"
      ]
    },
    {
      "cell_type": "markdown",
      "metadata": {
        "id": "WrgAw6a0h3SV"
      },
      "source": [
        "#### Questão 6\n",
        "\n",
        "Uma loja possui um banco de dados com a informação de venda de cada representante e de cada ano e precisa filtrar somente os dados do ano 2022 com venda maior do que 6000. A loja forneceu uma amostra contendo apenas as colunas com os anos e os valores de venda para que você ajude a realizar a filtragem dos dados a partir de um código:\n",
        "```\n",
        "vendas = [('2023', 4093), ('2021', 4320), ('2021', 5959), ('2022', 8883), ('2023', 9859), ('2022', 5141), ('2022', 7688), ('2022', 9544), ('2023', 4794), ('2021', 7178), ('2022', 3030), ('2021', 7471), ('2022', 4226), ('2022', 8190), ('2021', 9680), ('2022', 5616)]\n",
        "```\n",
        "Crie uma lista usando list comprehension para filtrar os valores de 2022 e que sejam maiores que 6000.\n"
      ]
    },
    {
      "cell_type": "code",
      "execution_count": null,
      "metadata": {
        "id": "jQvbtw2sh3SV",
        "colab": {
          "base_uri": "https://localhost:8080/"
        },
        "outputId": "5d08e4d4-74ac-46d2-bbfa-e1398f46ce69"
      },
      "outputs": [
        {
          "output_type": "execute_result",
          "data": {
            "text/plain": [
              "[8883, 7688, 9544, 8190]"
            ]
          },
          "metadata": {},
          "execution_count": 60
        }
      ],
      "source": [
        "vendas = [('2023', 4093), ('2021', 4320), ('2021', 5959), ('2022', 8883), ('2023', 9859), ('2022', 5141), ('2022', 7688), ('2022', 9544), ('2023', 4794), ('2021', 7178), ('2022', 3030), ('2021', 7471), ('2022', 4226), ('2022', 8190), ('2021', 9680), ('2022', 5616)]\n",
        "\n",
        "valores_2022 = [item[1] for item in vendas if item[1] > 6000 and item[0] == '2022']\n",
        "\n",
        "valores_2022\n",
        "\n"
      ]
    },
    {
      "cell_type": "markdown",
      "metadata": {
        "id": "8Hl7OgcQh3SV"
      },
      "source": [
        "#### Questão 7\n",
        "\n",
        "Uma clínica analisa dados de pacientes e armazena o valor numérico da glicose em um banco de dados e gostaria de rotular os dados da seguinte maneira:\n",
        "\n",
        "- Glicose igual ou inferior a 70: 'Hipoglicemia'\n",
        "- Glicose entre 70 a 99: 'Normal'\n",
        "- Glicose entre 100 e 125: 'Alterada'\n",
        "- Glicose superior a 125: 'Diabetes'\n",
        "\n",
        "A clínica disponibilizou parte dos valores e sua tarefa é criar uma lista de tuplas usando list comprehension contendo o rótulo e o valor da glicemia em cada tupla.\n",
        "\n",
        "```\n",
        "glicemia = [129, 82, 60, 97, 101, 65, 62, 167, 87, 53, 58, 92, 66, 120, 109, 62, 86, 96, 103, 88, 155, 52, 89, 73]\n",
        "```"
      ]
    },
    {
      "cell_type": "code",
      "execution_count": null,
      "metadata": {
        "id": "cIDqBZrxh3SV",
        "colab": {
          "base_uri": "https://localhost:8080/"
        },
        "outputId": "e70662ac-c41d-4cba-fc62-4df4fb81912b"
      },
      "outputs": [
        {
          "output_type": "execute_result",
          "data": {
            "text/plain": [
              "[('Diabetes', 129),\n",
              " ('Normal', 82),\n",
              " ('Hipoglicemia', 60),\n",
              " ('Normal', 97),\n",
              " ('Alternada', 101),\n",
              " ('Hipoglicemia', 65),\n",
              " ('Hipoglicemia', 62),\n",
              " ('Diabetes', 167),\n",
              " ('Normal', 87),\n",
              " ('Hipoglicemia', 53),\n",
              " ('Hipoglicemia', 58),\n",
              " ('Normal', 92),\n",
              " ('Hipoglicemia', 66),\n",
              " ('Alternada', 120),\n",
              " ('Alternada', 109),\n",
              " ('Hipoglicemia', 62),\n",
              " ('Normal', 86),\n",
              " ('Normal', 96),\n",
              " ('Alternada', 103),\n",
              " ('Normal', 88),\n",
              " ('Diabetes', 155),\n",
              " ('Hipoglicemia', 52),\n",
              " ('Normal', 89),\n",
              " ('Normal', 73)]"
            ]
          },
          "metadata": {},
          "execution_count": 66
        }
      ],
      "source": [
        "glicemia = [129, 82, 60, 97, 101, 65, 62, 167, 87, 53, 58, 92, 66, 120, 109, 62, 86, 96, 103, 88, 155, 52, 89, 73]\n",
        "\n",
        "#valores_2022 = [item[1] for item in vendas if item[1] > 6000 and item[0] == '2022']\n",
        "\n",
        "rotulo = ['Hipoglicemia' if i <= 70 else 'Normal' if i <= 99 else 'Alternada' if i <=125 else 'Diabetes' for i in glicemia]\n",
        "\n",
        "valor_glicemia = list(zip(rotulo,glicemia))\n",
        "valor_glicemia"
      ]
    },
    {
      "cell_type": "markdown",
      "metadata": {
        "id": "twYIfol8h3SV"
      },
      "source": [
        "#### Questão 8\n",
        "Um e-commerce possui as informações de id de venda, quantidade vendida e preço do produto divididos nas seguintes listas:\n",
        "\n",
        "```\n",
        "id = [0, 1, 2, 3, 4, 5, 6, 7, 8, 9]\n",
        "quantidade = [15, 12, 1, 15, 2, 11, 2, 12, 2, 4]\n",
        "preco = [93.0, 102.0, 18.0, 41.0, 122.0, 14.0, 71.0, 48.0, 14.0, 144.0]\n",
        "```\n",
        "\n",
        "O e-commerce precisa estruturar esses dados em uma tabela contendo o valor total da venda, que é obtida multiplicando a quantidade pelo preço unitário. Além disso, tabela precisa conter um cabeçalho indicando as colunas: 'id', 'quantidade', 'preco' e 'total'.\n",
        "\n",
        "Crie uma lista de tuplas em que cada tupla tenha um id, quantidade, preço e valor total, na qual a primeira tupla é o cabeçalho da tabela.\n"
      ]
    },
    {
      "cell_type": "code",
      "source": [
        "id = [0, 1, 2, 3, 4, 5, 6, 7, 8, 9]\n",
        "quantidade = [15, 12, 1, 15, 2, 11, 2, 12, 2, 4]\n",
        "preco = [93.0, 102.0, 18.0, 41.0, 122.0, 14.0, 71.0, 48.0, 14.0, 144.0]\n",
        "\n",
        "# Cabeçalho da tabela\n",
        "cabecalho = ('id', 'quantidade', 'preco', 'total')\n",
        "\n",
        "# Lista de tuplas com os dados\n",
        "tabela = [cabecalho] + [(id, qtd, prec, qtd * prec) for id, qtd, prec in zip(id, quantidade, preco)]\n",
        "\n",
        "print(tabela)\n"
      ],
      "metadata": {
        "colab": {
          "base_uri": "https://localhost:8080/"
        },
        "id": "ICeE-pbj9BEO",
        "outputId": "b536201b-b9b3-4a11-aa33-140df765c29b"
      },
      "execution_count": null,
      "outputs": [
        {
          "output_type": "stream",
          "name": "stdout",
          "text": [
            "[('id', 'quantidade', 'preco', 'total'), (0, 15, 93.0, 1395.0), (1, 12, 102.0, 1224.0), (2, 1, 18.0, 18.0), (3, 15, 41.0, 615.0), (4, 2, 122.0, 244.0), (5, 11, 14.0, 154.0), (6, 2, 71.0, 142.0), (7, 12, 48.0, 576.0), (8, 2, 14.0, 28.0), (9, 4, 144.0, 576.0)]\n"
          ]
        }
      ]
    },
    {
      "cell_type": "code",
      "execution_count": null,
      "metadata": {
        "id": "XnmvwiIwh3SV",
        "colab": {
          "base_uri": "https://localhost:8080/"
        },
        "outputId": "b5975d72-5468-4c2b-fb0a-53514a4d9369"
      },
      "outputs": [
        {
          "output_type": "execute_result",
          "data": {
            "text/plain": [
              "[['id', 'quantidade', 'preço', 'valor total'],\n",
              " (0, 15, 93.0, 1395.0),\n",
              " (1, 12, 102.0, 1224.0),\n",
              " (2, 1, 18.0, 18.0),\n",
              " (3, 15, 41.0, 615.0),\n",
              " (4, 2, 122.0, 244.0),\n",
              " (5, 11, 14.0, 154.0),\n",
              " (6, 2, 71.0, 142.0),\n",
              " (7, 12, 48.0, 576.0),\n",
              " (8, 2, 14.0, 28.0),\n",
              " (9, 4, 144.0, 576.0)]"
            ]
          },
          "metadata": {},
          "execution_count": 86
        }
      ],
      "source": [
        "id = [0, 1, 2, 3, 4, 5, 6, 7, 8, 9]\n",
        "quantidade = [15, 12, 1, 15, 2, 11, 2, 12, 2, 4]\n",
        "preco = [93.0, 102.0, 18.0, 41.0, 122.0, 14.0, 71.0, 48.0, 14.0, 144.0]\n",
        "total = []\n",
        "cabecalho = ['id', 'quantidade', 'preço', 'valor total']\n",
        "\n",
        "for i in range(len(quantidade)):\n",
        "  total.append(quantidade[i] * preco[i])\n",
        "\n",
        "#tabela = [cabecalho] + [(id, qtd, prec, total) for id, qtd, prec, total in zip(id,quantidade,preco,total)]\n",
        "#tabela\n",
        "\n",
        "tabela =  [cabecalho] +list(zip(id,quantidade,preco,total))\n",
        "tabela\n"
      ]
    },
    {
      "cell_type": "markdown",
      "metadata": {
        "id": "9tMZEiPzh3SV"
      },
      "source": [
        "#### Questão 9\n",
        "\n",
        "Uma empresa possui filiais espalhadas nos estados da região sudeste do Brasil. Em uma das tabelas de cadastro das filiais, há uma coluna contendo a informação de qual é o estado a que pertence:\n",
        "```\n",
        "estados = ['SP', 'ES', 'MG', 'MG', 'SP', 'MG', 'ES', 'ES', 'ES', 'SP', 'SP', 'MG', 'ES', 'SP', 'RJ', 'MG', 'RJ', 'SP', 'MG', 'SP', 'ES', 'SP', 'MG']\n",
        "```\n",
        "\n",
        "A empresa sempre está abrindo novas filiais, de modo que a tabela está constantemente recebendo novos registros e o gestor gostaria de possuir a informação atualizada da quantidade de filiais em cada estado. A partir da coluna com a informação dos estados, crie um dicionário usando dict comprehension com a chave sendo o nome de um estado e o valor sendo a contagem de vezes em que o estado aparece na lista.\n",
        "\n",
        "> Dica: Você pode fazer um passo intermediário para gerar uma lista de listas em que cada uma das listas possui o nome de apenas um estado com valores repetidos."
      ]
    },
    {
      "cell_type": "code",
      "execution_count": null,
      "metadata": {
        "id": "qXU5UMUih3SV",
        "colab": {
          "base_uri": "https://localhost:8080/"
        },
        "outputId": "4bd60600-96fb-4bac-a7c8-53cbfb13a420"
      },
      "outputs": [
        {
          "output_type": "execute_result",
          "data": {
            "text/plain": [
              "{'ES': 6, 'SP': 8, 'RJ': 2, 'MG': 7}"
            ]
          },
          "metadata": {},
          "execution_count": 87
        }
      ],
      "source": [
        "estados = ['SP', 'ES', 'MG', 'MG', 'SP', 'MG', 'ES', 'ES', 'ES', 'SP', 'SP', 'MG', 'ES', 'SP', 'RJ', 'MG', 'RJ', 'SP', 'MG', 'SP', 'ES', 'SP', 'MG']\n",
        "\n",
        "lista = {item : estados.count(item) for item in set(estados)}\n",
        "lista\n"
      ]
    },
    {
      "cell_type": "markdown",
      "metadata": {
        "id": "ckCXdwLdjYgM"
      },
      "source": [
        "## Aula 4 - Lidando com exceções"
      ]
    },
    {
      "cell_type": "markdown",
      "metadata": {
        "id": "7z7VpY0ujYgM"
      },
      "source": [
        "#### Questão 1\n",
        "\n",
        "Faça um programa que solicite à pessoa usuária digitar dois números `float` e calcular a divisão entre esses números. O código deve conter um tratamento de erro, indicando o tipo de erro que foi gerado caso a divisão não seja possível de realizar.\n",
        "\n",
        "Teste o programa com o segundo valor numérico do input igual a 0 e também teste utilizando caracteres textuais no input para checar os tipos de erro que ocorrem."
      ]
    },
    {
      "cell_type": "code",
      "execution_count": 12,
      "metadata": {
        "id": "Zg1CLRTxjYgM",
        "colab": {
          "base_uri": "https://localhost:8080/"
        },
        "outputId": "8aba61a8-9062-4ec4-a901-6c36de21bf25"
      },
      "outputs": [
        {
          "output_type": "stream",
          "name": "stdout",
          "text": [
            "Informe o numerador da divisão: 8\n",
            "Informe o denominador da divisão: p\n",
            "Erro: could not convert string to float: 'p'\n"
          ]
        }
      ],
      "source": [
        "try:\n",
        "  n1 = float(input(\"Informe o numerador da divisão: \"))\n",
        "  n2 = float(input('Informe o denominador da divisão: '))\n",
        "  resultado = (n1/n2)\n",
        "\n",
        "except ValueError as e:\n",
        "  print(f'Erro: {e}')\n",
        "\n",
        "except ZeroDivisionError as e:\n",
        "  print(f'Erro: {e}')\n",
        "\n",
        "else:\n",
        "  print(resultado)"
      ]
    },
    {
      "cell_type": "markdown",
      "metadata": {
        "id": "KYgeJS5ljYgM"
      },
      "source": [
        "#### Questão 2\n",
        "\n",
        "Faça um programa que solicite à pessoa usuária digitar um texto que será uma chave a ser pesquisada no seguinte dicionário: `idades = {'Júlia': 16, 'Carol': 23, 'Alberto': 19, 'Roberta': 17}`, armazenando o resultado do valor em uma variável. O código deve conter um tratamento de erro `KeyError`, imprimindo a informação 'Nome não encontrado' caso ocorra o erro e imprimir o valor caso não ocorra nenhum.\n",
        "\n",
        "Teste o programa com um nome presente em uma das chaves do dicionário e com um que não esteja no dicionário para verificar a mensagem de erro.\n",
        "\n"
      ]
    },
    {
      "cell_type": "code",
      "execution_count": 20,
      "metadata": {
        "id": "mcTh-_tDjYgM",
        "colab": {
          "base_uri": "https://localhost:8080/"
        },
        "outputId": "f03f91ef-8346-47c9-f465-f4d9fea2e3ff"
      },
      "outputs": [
        {
          "output_type": "stream",
          "name": "stdout",
          "text": [
            "Informe um nome e descubra a idade: Daniel\n",
            "Nome não encontrado.\n"
          ]
        }
      ],
      "source": [
        "idades = {'Júlia': 16, 'Carol': 23, 'Alberto': 19, 'Roberta': 17}\n",
        "\n",
        "try:\n",
        "  nome = str(input('Informe um nome e descubra a idade: '))\n",
        "  resultado = idades[nome]\n",
        "\n",
        "except KeyError:\n",
        "  print('Nome não encontrado.')\n",
        "\n",
        "else:\n",
        "  print(f'Idade: {resultado}')\n",
        "\n"
      ]
    },
    {
      "cell_type": "markdown",
      "metadata": {
        "id": "tGQNNI_PjYgM"
      },
      "source": [
        "#### Questão 3\n",
        "Crie uma função que recebe uma lista como parâmetro e converta todos os valores da lista para `float`. A função deve conter um tratamento de erro indicando o tipo de erro gerado e retornar a lista caso não tenha ocorrido nenhum erro. Por fim, deve ter a cláusula `finally` para imprimir o texto: 'Fim da execução da função'."
      ]
    },
    {
      "cell_type": "code",
      "execution_count": 41,
      "metadata": {
        "id": "1oflR6ywjYgN"
      },
      "outputs": [],
      "source": [
        "def conversor(lista):\n",
        "\n",
        "  try:\n",
        "\n",
        "    lista_conv = [float(item) for item in lista]\n",
        "\n",
        "  except ValueError as e:\n",
        "    print(f'Erro: {e}')\n",
        "\n",
        "  else:\n",
        "    return lista_conv\n",
        "\n",
        "  finally:\n",
        "    print('Fim da execução da função')\n",
        "\n"
      ]
    },
    {
      "cell_type": "markdown",
      "metadata": {
        "id": "WWE44VS4jYgN"
      },
      "source": [
        "#### Questão 4\n",
        "Crie uma função que recebe duas listas como parâmetros e agrupe os elementos um a um das listas, formando uma lista de tuplas de 3 elementos, onde o primeiro e segundo elemento da tupla são os valores na posição `i` das listas e o terceiro elemento é a soma dos valores na posição `i` das listas. A função deve conter um tratamento de erro indicando o tipo de erro gerado e retornar como resultado a lista de tuplas.\n",
        "\n",
        "Dados para testar a função:\n",
        "\n",
        "Valores sem erro:\n",
        "```\n",
        "lista1 = [4,6,7,9,10]\n",
        "lista 2 = [-4,6,8,7,9]\n",
        "```\n",
        "Listas com tamanhos diferentes:\n",
        "\n",
        "```\n",
        "lista1 = [4,6,7,9,10,4]\n",
        "lista 2 = [-4,6,8,7,9]\n",
        "```\n",
        "Listas com valores incoerentes:\n",
        "\n",
        "```\n",
        "lista1 = [4,6,7,9,'A']\n",
        "lista 2 = [-4,'E',8,7,9]\n",
        "```"
      ]
    },
    {
      "cell_type": "code",
      "execution_count": 62,
      "metadata": {
        "id": "iMjbUztBjYgN",
        "colab": {
          "base_uri": "https://localhost:8080/"
        },
        "outputId": "90ded4ee-107c-4986-93f4-a15766607c20"
      },
      "outputs": [
        {
          "output_type": "stream",
          "name": "stdout",
          "text": [
            "Erro: unsupported operand type(s) for +: 'int' and 'str'\n"
          ]
        }
      ],
      "source": [
        "lista1 = [4,6,7,9,'A']\n",
        "lista2 = [-4,'E',8,7,9]\n",
        "\n",
        "def funcao(l1,l2):\n",
        "\n",
        "  try:\n",
        "    nova_lista = [(x, y, x + y) for x, y in zip(l1,l2)]\n",
        "\n",
        "  except TypeError as e:\n",
        "    print(f'Erro: {e}')\n",
        "\n",
        "  else:\n",
        "    return nova_lista\n",
        "\n",
        "resultado = funcao(lista1,lista2)\n",
        "resultado\n"
      ]
    }
  ],
  "metadata": {
    "colab": {
      "toc_visible": true,
      "provenance": [],
      "include_colab_link": true
    },
    "kernelspec": {
      "display_name": "Python 3",
      "name": "python3"
    },
    "language_info": {
      "name": "python"
    }
  },
  "nbformat": 4,
  "nbformat_minor": 0
}